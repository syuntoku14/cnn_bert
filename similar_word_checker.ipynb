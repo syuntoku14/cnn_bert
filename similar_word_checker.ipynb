{
 "cells": [
  {
   "cell_type": "code",
   "execution_count": 1,
   "metadata": {},
   "outputs": [],
   "source": [
    "import torch\n",
    "import torch.nn as nn\n",
    "import numpy as np\n",
    "from torch.utils.data import Dataset, DataLoader\n",
    "from pytorch_pretrained_bert import BertModel, BertTokenizer\n",
    "import torch.nn.utils.rnn as rnn\n",
    "import torch.nn.functional as F\n",
    "import torch.utils.data as data\n",
    "import sys\n",
    "from torch.nn.utils import clip_grad_norm_\n",
    "import parser\n",
    "import torch\n",
    "import os\n",
    "import pickle\n",
    "\n",
    "from bert_large_cnn import BertDataset, CNN_LM, to_word, find_closest_words_amond_bert_embeddings, find_closest_words, run_model_through_dataset"
   ]
  },
  {
   "cell_type": "code",
   "execution_count": 2,
   "metadata": {},
   "outputs": [
    {
     "name": "stdout",
     "output_type": "stream",
     "text": [
      "load dataset from pickle\n"
     ]
    }
   ],
   "source": [
    "with open('bert_dataset.pkl','rb') as bert_dataset_file:\n",
    "    print('load dataset from pickle')\n",
    "    dataset = pickle.load(bert_dataset_file)"
   ]
  },
  {
   "cell_type": "code",
   "execution_count": 3,
   "metadata": {},
   "outputs": [],
   "source": [
    "CHAR_VOCAB_SIZE = 128\n",
    "BERT_EMBED_DIM = 1024\n",
    "embed_size = 8\n",
    "channel_size = 32\n",
    "hidden_size = 256\n",
    "device = 'cuda'\n",
    "model = CNN_LM(char_vocab_size=CHAR_VOCAB_SIZE,\n",
    "                   char_len=dataset.chars.shape[1], embed_dim=embed_size,\n",
    "                   chan_size=channel_size, hid_size=hidden_size,\n",
    "                   bert_hid_size=BERT_EMBED_DIM)\n",
    "model = model.to(device)"
   ]
  },
  {
   "cell_type": "code",
   "execution_count": 4,
   "metadata": {},
   "outputs": [
    {
     "data": {
      "text/plain": [
       "<All keys matched successfully>"
      ]
     },
     "execution_count": 4,
     "metadata": {},
     "output_type": "execute_result"
    }
   ],
   "source": [
    "checkpoint = torch.load('./data/bert_large_embed.ckpt')\n",
    "model.load_state_dict(checkpoint)"
   ]
  },
  {
   "cell_type": "code",
   "execution_count": 5,
   "metadata": {},
   "outputs": [],
   "source": [
    "#dataset = BertDataset(device) \n",
    "dataloader = DataLoader(dataset, batch_size=512, shuffle=True) "
   ]
  },
  {
   "cell_type": "code",
   "execution_count": 6,
   "metadata": {},
   "outputs": [],
   "source": [
    "inputs, outputs, targets = run_model_through_dataset(dataloader, model) "
   ]
  },
  {
   "cell_type": "code",
   "execution_count": 34,
   "metadata": {},
   "outputs": [
    {
     "name": "stdout",
     "output_type": "stream",
     "text": [
      "wallet\n",
      "['german', 'russian', 'friend', 'truck', 'vampire', 'captain', 'railroad', 'seventh', 'girl', 'norwegian', 'fifth', 'bastard', 'demon', 'forward', 'lawyer', 'kitchen', 'find', 'italian', 'soldier', 'fourth']\n",
      "['wallet', '[PAD]', '1883', '1856', '1872', '1855', '1879', '1840', 'briefcase', '1825', '1955', '1863', '1862', '1884', '1892', '1827', '1839', '1869', '1882', '##;']\n"
     ]
    }
   ],
   "source": [
    "index = 12\n",
    "print(to_word(inputs[index]))\n",
    "print(find_closest_words(index, inputs, outputs, targets)) \n",
    "print(find_closest_words_amond_bert_embeddings(index, inputs, outputs, targets))"
   ]
  },
  {
   "cell_type": "code",
   "execution_count": 30,
   "metadata": {},
   "outputs": [
    {
     "data": {
      "text/plain": [
       "['rockwell',\n",
       " '1853',\n",
       " '1878',\n",
       " '1813',\n",
       " '1872',\n",
       " '1869',\n",
       " '1866',\n",
       " '1879',\n",
       " '1778',\n",
       " '1870',\n",
       " '1874',\n",
       " '1845',\n",
       " '1892',\n",
       " '1827',\n",
       " '1880',\n",
       " '1858',\n",
       " '1828',\n",
       " '1877',\n",
       " '1875',\n",
       " '1675']"
      ]
     },
     "execution_count": 30,
     "metadata": {},
     "output_type": "execute_result"
    }
   ],
   "source": [
    "find_closest_words_amond_bert_embeddings(14, inputs, outputs, targets)"
   ]
  },
  {
   "cell_type": "code",
   "execution_count": 28,
   "metadata": {},
   "outputs": [
    {
     "data": {
      "text/plain": [
       "'heads'"
      ]
     },
     "execution_count": 28,
     "metadata": {},
     "output_type": "execute_result"
    }
   ],
   "source": [
    "to_word(inputs[13])"
   ]
  },
  {
   "cell_type": "code",
   "execution_count": null,
   "metadata": {},
   "outputs": [],
   "source": []
  }
 ],
 "metadata": {
  "kernelspec": {
   "display_name": "Python 3",
   "language": "python",
   "name": "python3"
  },
  "language_info": {
   "codemirror_mode": {
    "name": "ipython",
    "version": 3
   },
   "file_extension": ".py",
   "mimetype": "text/x-python",
   "name": "python",
   "nbconvert_exporter": "python",
   "pygments_lexer": "ipython3",
   "version": "3.6.8"
  }
 },
 "nbformat": 4,
 "nbformat_minor": 4
}
